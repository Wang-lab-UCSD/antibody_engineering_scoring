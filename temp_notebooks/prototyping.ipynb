{
 "cells": [
  {
   "cell_type": "code",
   "execution_count": 1,
   "id": "1390d911-69e8-4b73-a90f-6230f805a868",
   "metadata": {},
   "outputs": [
    {
     "name": "stderr",
     "output_type": "stream",
     "text": [
      "/ssd1/Documents/Wang_Lab_Projects/COVID/venv_supplementary/lib/python3.10/site-packages/tqdm/auto.py:21: TqdmWarning: IProgress not found. Please update jupyter and ipywidgets. See https://ipywidgets.readthedocs.io/en/stable/user_install.html\n",
      "  from .autonotebook import tqdm as notebook_tqdm\n"
     ]
    }
   ],
   "source": [
    "import os\n",
    "import pickle\n",
    "import numpy as np\n",
    "import matplotlib.pyplot as plt\n",
    "import seaborn as sns\n",
    "import pandas as pd\n",
    "import xGPR\n",
    "from xGPR import xGPRegression as xGPReg, FastConv1d\n",
    "from xGPR.data_handling.dataset_builder import build_regression_dataset\n",
    "import antpack\n",
    "from sklearn.metrics import r2_score\n",
    "import optuna\n",
    "from xgboost import XGBRegressor\n",
    "\n",
    "if \"notebooks\" in os.getcwd():\n",
    "    start_dir = os.path.join(os.getcwd(), \"..\")\n",
    "\n",
    "os.chdir(start_dir)\n",
    "\n",
    "from multi_target_modeling_src.data_encoding.seq_encoder_functions import OneHotEncoder, PFAStandardEncoder, PChemPropEncoder"
   ]
  },
  {
   "cell_type": "code",
   "execution_count": null,
   "id": "935dd08e-5ed0-4846-a38e-761c824cc9a5",
   "metadata": {},
   "outputs": [],
   "source": []
  },
  {
   "cell_type": "code",
   "execution_count": 2,
   "id": "3087ad45-339b-4cc6-a939-dc3471e02bc7",
   "metadata": {},
   "outputs": [],
   "source": [
    "os.chdir(os.path.join(start_dir, \"supplementary_experiment_data_and_results\", \"mit-ll-AlphaSeq_Antibody_Dataset-a8f64a9\",\n",
    "                     \"antibody_dataset_1\", \"MITLL_AAlphaBio_Ab_Binding_dataset.csv\"))\n",
    "raw_data = pd.read_csv(\"MITLL_AAlphaBio_Ab_Binding_dataset.csv\")"
   ]
  },
  {
   "cell_type": "code",
   "execution_count": 3,
   "id": "36992ea7-dbb1-4e90-aadc-9af1b952df0a",
   "metadata": {},
   "outputs": [
    {
     "data": {
      "text/plain": [
       "Index(['POI', 'Sequence', 'Target', 'Assay', 'Replicate', 'Pred_affinity',\n",
       "       'HC', 'LC', 'CDRH1', 'CDRH2', 'CDRH3', 'CDRL1', 'CDRL2', 'CDRL3'],\n",
       "      dtype='object')"
      ]
     },
     "execution_count": 3,
     "metadata": {},
     "output_type": "execute_result"
    }
   ],
   "source": [
    "raw_data.columns"
   ]
  },
  {
   "cell_type": "code",
   "execution_count": null,
   "id": "81802ce0-845d-47ed-bdef-12705b3a69ce",
   "metadata": {},
   "outputs": [],
   "source": []
  },
  {
   "cell_type": "code",
   "execution_count": null,
   "id": "c3ddcae0-5ebf-44d2-84c1-6096cfd5f6e2",
   "metadata": {},
   "outputs": [],
   "source": []
  },
  {
   "cell_type": "code",
   "execution_count": 4,
   "id": "b6d7b98e-5b2f-4943-9461-91f4a91c0454",
   "metadata": {},
   "outputs": [
    {
     "name": "stdout",
     "output_type": "stream",
     "text": [
      "(104968, 14)\n",
      "(51590, 14)\n"
     ]
    }
   ],
   "source": [
    "# For this particular benchmark exercise, we are only interested in binding to the target.\n",
    "raw_data = raw_data[raw_data[\"Target\"]==\"MIT_Target\"]\n",
    "\n",
    "# As in the literature, if there are multiple values for one sequence, average over them.\n",
    "agg_fun = {col:\"first\" for col in raw_data.columns.tolist()}\n",
    "agg_fun[\"Pred_affinity\"] = \"mean\"\n",
    "raw_data = raw_data.groupby('Sequence').aggregate(agg_fun)\n",
    "print(raw_data.shape)\n",
    "\n",
    "raw_data = raw_data.loc[(raw_data['Pred_affinity'] < 3) | (raw_data['Pred_affinity'] >= 4)].copy()\n",
    "print(raw_data.shape)"
   ]
  },
  {
   "cell_type": "code",
   "execution_count": 5,
   "id": "66166e7d-e725-4887-b304-980717623f27",
   "metadata": {},
   "outputs": [],
   "source": [
    "from antpack import SingleChainAnnotator as SCA\n",
    "sca_light = SCA(chains=[\"K\", \"L\"])\n",
    "sca_heavy = SCA(chains=[\"H\"])\n",
    "\n",
    "cdr_list = [\"CDRH1\", \"CDRH2\", \"CDRH3\", \"CDRL1\", \"CDRL2\", \"CDRL3\"]\n",
    "cdr_numbering = [[] for cdr in cdr_list]\n",
    "\n",
    "for i, seq in enumerate(raw_data[\"Sequence\"].tolist()):\n",
    "    h_res = sca_heavy.analyze_seq(seq)[0]\n",
    "    for j, cdr in enumerate(cdr_list[:3]):\n",
    "        cdr_seq = raw_data[cdr].values[i]\n",
    "        begin = seq.find(cdr_seq)\n",
    "        end = begin + len(cdr_seq)\n",
    "        cdr_numbering[j].append(h_res[begin:end])\n",
    "\n",
    "    l_res = sca_light.analyze_seq(seq)[0]\n",
    "    for j, cdr in enumerate(cdr_list[3:]):\n",
    "        cdr_seq = raw_data[cdr].values[i]\n",
    "        begin = seq.find(cdr_seq)\n",
    "        end = begin + len(cdr_seq)\n",
    "        cdr_numbering[j+3].append(l_res[begin:end])"
   ]
  },
  {
   "cell_type": "code",
   "execution_count": 6,
   "id": "789230e1-7301-4c67-b29f-cfe33768f5d2",
   "metadata": {},
   "outputs": [],
   "source": [
    "expected_positions = {}\n",
    "\n",
    "for i, cdr in enumerate(cdr_list):\n",
    "    unique_numbers = []\n",
    "    for c in cdr_numbering[i]:\n",
    "        unique_numbers += c\n",
    "\n",
    "    expected_positions[cdr] = np.sort(np.unique(unique_numbers))"
   ]
  },
  {
   "cell_type": "code",
   "execution_count": null,
   "id": "31376b92-2ba6-4922-a953-90964a4adac7",
   "metadata": {},
   "outputs": [],
   "source": []
  },
  {
   "cell_type": "code",
   "execution_count": 7,
   "id": "10902734-280c-48bf-8055-1e3d0a20d769",
   "metadata": {},
   "outputs": [],
   "source": [
    "full_length = sum([len(expected_positions[k]) for k in expected_positions.keys()])\n",
    "\n",
    "net_length = 0\n",
    "encoded_seqs = [[\"-\" for k in range(full_length)] for s in raw_data[\"Sequence\"].tolist()]\n",
    "\n",
    "for j, cdr in enumerate(cdr_list):\n",
    "    seqs = raw_data[cdr].tolist()\n",
    "    seq_idx = {c:(i+net_length) for i, c in enumerate(expected_positions[cdr])}\n",
    "\n",
    "    for seq, encoded_seq,numbering in zip(seqs, encoded_seqs, cdr_numbering[j]):\n",
    "        for letter, pos in zip(seq, numbering):\n",
    "            encoded_seq[seq_idx[pos]] = letter\n",
    "    \n",
    "    net_length += len(seq_idx)\n",
    "\n",
    "encoded_seqs = [\"\".join(s) for s in encoded_seqs]"
   ]
  },
  {
   "cell_type": "code",
   "execution_count": 8,
   "id": "d45f3a3d-14e0-4a59-b15c-adc78c7c9d3c",
   "metadata": {},
   "outputs": [],
   "source": [
    "ohencoder = OneHotEncoder()\n",
    "pchemencoder = PChemPropEncoder()\n",
    "pfaencoder = PFAStandardEncoder()"
   ]
  },
  {
   "cell_type": "code",
   "execution_count": 21,
   "id": "a6fa5dda-2008-41b4-98a4-9bb401fc6ade",
   "metadata": {},
   "outputs": [],
   "source": [
    "fcdata = pchemencoder.encode_variable_length(encoded_seqs)\n",
    "fcdata = fcdata.reshape((fcdata.shape[0], 78*3))\n",
    "rng = np.random.default_rng(123)\n",
    "idx = rng.permutation(fcdata.shape[0])\n",
    "trainidx, validx, testidx = idx[:41787], idx[41787:(41787+4644)], idx[(41787+4644):]\n",
    "\n",
    "yvalues = raw_data[\"Pred_affinity\"].values.astype(np.float64)\n",
    "trainx, trainy = fcdata[trainidx,...], yvalues[trainidx]\n",
    "valx, valy = fcdata[validx,...], yvalues[validx]\n",
    "testx, testy = fcdata[testidx,...], yvalues[testidx]"
   ]
  },
  {
   "cell_type": "code",
   "execution_count": 26,
   "id": "2991bc57-792b-42a5-adc2-7e4369759ba8",
   "metadata": {},
   "outputs": [],
   "source": [
    "import sklearn\n",
    "from sklearn.model_selection import KFold\n",
    "def objective(trial):\n",
    "    kf = KFold(n_splits=5)\n",
    "\n",
    "    kf.get_n_splits(trainx)\n",
    "\n",
    "    params = {\n",
    "            'max_depth': trial.suggest_int('max_depth', 2, 6),\n",
    "            'learning_rate': trial.suggest_float('learning_rate', 0.01, 0.5, log=True),\n",
    "            'n_estimators': trial.suggest_int('n_estimators', 50, 500),\n",
    "            'min_child_weight': trial.suggest_int('min_child_weight', 0.1, 10),\n",
    "            'gamma': trial.suggest_float('gamma', 1e-8, 1.0, log=True),\n",
    "            'subsample': trial.suggest_float('subsample', 0.5, 1.0, log=True),\n",
    "            'colsample_bytree': trial.suggest_float('colsample_bytree', 0.05, 1.0, log=True),\n",
    "            'reg_alpha': trial.suggest_float('reg_alpha', 1e-8, 1.0, log=True),\n",
    "            'reg_lambda': trial.suggest_float('reg_lambda', 1e-8, 1.0, log=True),\n",
    "            'eval_metric': 'mlogloss',\n",
    "    }\n",
    "\n",
    "    optuna_model = XGBRegressor(**params)\n",
    "    results = []\n",
    "    for i, (train_index, test_index) in enumerate(kf.split(trainx)):\n",
    "        subtrainx, subvalidx = trainx[train_index,...], trainx[test_index,...]\n",
    "        subtrainy, subvalidy = trainy[train_index], trainy[test_index]\n",
    "        optuna_model.fit(subtrainx, subtrainy)\n",
    "        y_pred = optuna_model.predict(subvalidx)\n",
    "        score = np.mean(np.abs(subvalidy - y_pred))\n",
    "        results.append(score)\n",
    "\n",
    "    return np.mean(results)"
   ]
  },
  {
   "cell_type": "code",
   "execution_count": 27,
   "id": "c4e5c7e8-9866-4a8a-9c2e-beb60fbaeb80",
   "metadata": {},
   "outputs": [
    {
     "name": "stderr",
     "output_type": "stream",
     "text": [
      "[I 2024-05-30 08:43:34,390] A new study created in memory with name: no-name-98579afe-4d2c-47d5-8e03-db31c887f86e\n",
      "[I 2024-05-30 08:43:35,624] Trial 0 finished with value: 1.0606805726586264 and parameters: {'max_depth': 5, 'learning_rate': 0.030629657963841296, 'n_estimators': 152, 'min_child_weight': 6, 'gamma': 0.005698384608345678, 'subsample': 0.6704057649058658, 'colsample_bytree': 0.9440035882733008, 'reg_alpha': 0.003010494989157965, 'reg_lambda': 7.03809641382707e-05}. Best is trial 0 with value: 1.0606805726586264.\n",
      "[I 2024-05-30 08:43:37,316] Trial 1 finished with value: 1.0392321543486385 and parameters: {'max_depth': 3, 'learning_rate': 0.03828680757584917, 'n_estimators': 378, 'min_child_weight': 4, 'gamma': 3.0020863018484457e-08, 'subsample': 0.6588601863947399, 'colsample_bytree': 0.456167314561352, 'reg_alpha': 2.883592210117951e-07, 'reg_lambda': 2.53287670148807e-07}. Best is trial 1 with value: 1.0392321543486385.\n",
      "[I 2024-05-30 08:43:39,066] Trial 2 finished with value: 0.9569418432162756 and parameters: {'max_depth': 4, 'learning_rate': 0.08008646380845469, 'n_estimators': 336, 'min_child_weight': 9, 'gamma': 0.006246584207473313, 'subsample': 0.7636711939395524, 'colsample_bytree': 0.43540209585032646, 'reg_alpha': 3.834169523641585e-06, 'reg_lambda': 7.839876925917444e-06}. Best is trial 2 with value: 0.9569418432162756.\n",
      "[I 2024-05-30 08:43:41,285] Trial 3 finished with value: 1.0713994285092405 and parameters: {'max_depth': 3, 'learning_rate': 0.031550871123216265, 'n_estimators': 334, 'min_child_weight': 1, 'gamma': 2.9485560066017848e-05, 'subsample': 0.6740197465482006, 'colsample_bytree': 0.21941641998180614, 'reg_alpha': 2.550599806285011e-05, 'reg_lambda': 3.148399130467629e-06}. Best is trial 2 with value: 0.9569418432162756.\n",
      "[I 2024-05-30 08:43:42,902] Trial 4 finished with value: 0.9026770350209257 and parameters: {'max_depth': 4, 'learning_rate': 0.3294893566516703, 'n_estimators': 475, 'min_child_weight': 5, 'gamma': 0.0009808974699196515, 'subsample': 0.5417196750792047, 'colsample_bytree': 0.12935044685527014, 'reg_alpha': 2.0826183738719708e-05, 'reg_lambda': 0.08520660531158526}. Best is trial 4 with value: 0.9026770350209257.\n",
      "[I 2024-05-30 08:43:45,227] Trial 5 finished with value: 0.9689165758289817 and parameters: {'max_depth': 3, 'learning_rate': 0.06616993774569432, 'n_estimators': 494, 'min_child_weight': 5, 'gamma': 0.0008001219894116966, 'subsample': 0.5436042595962206, 'colsample_bytree': 0.5943799791960749, 'reg_alpha': 0.0006675457377338358, 'reg_lambda': 0.0002293739279185242}. Best is trial 4 with value: 0.9026770350209257.\n",
      "[I 2024-05-30 08:43:46,986] Trial 6 finished with value: 1.0925397559687533 and parameters: {'max_depth': 3, 'learning_rate': 0.0328618567570793, 'n_estimators': 238, 'min_child_weight': 7, 'gamma': 0.10084508453420292, 'subsample': 0.712233567985096, 'colsample_bytree': 0.3713362202249117, 'reg_alpha': 0.00048695902646412595, 'reg_lambda': 0.0009982240218295083}. Best is trial 4 with value: 0.9026770350209257.\n",
      "[I 2024-05-30 08:43:47,977] Trial 7 finished with value: 0.9448034594038527 and parameters: {'max_depth': 5, 'learning_rate': 0.26984509912278304, 'n_estimators': 87, 'min_child_weight': 8, 'gamma': 8.898790782620536e-07, 'subsample': 0.5720538875508394, 'colsample_bytree': 0.27781371195902294, 'reg_alpha': 5.8304239226092374e-08, 'reg_lambda': 0.12095243339874023}. Best is trial 4 with value: 0.9026770350209257.\n",
      "[I 2024-05-30 08:43:48,315] Trial 8 finished with value: 1.0233519747990356 and parameters: {'max_depth': 5, 'learning_rate': 0.16945824066963056, 'n_estimators': 57, 'min_child_weight': 6, 'gamma': 0.0002846305677985643, 'subsample': 0.5582408653538693, 'colsample_bytree': 0.07908959214860369, 'reg_alpha': 0.003666369489437178, 'reg_lambda': 3.549207667359243e-06}. Best is trial 4 with value: 0.9026770350209257.\n",
      "[I 2024-05-30 08:43:49,251] Trial 9 finished with value: 0.9664485314534987 and parameters: {'max_depth': 5, 'learning_rate': 0.08747430732847655, 'n_estimators': 225, 'min_child_weight': 10, 'gamma': 0.05412027258254479, 'subsample': 0.6405564259050383, 'colsample_bytree': 0.056974930789697516, 'reg_alpha': 2.742487061189558e-06, 'reg_lambda': 1.5327998715628543e-05}. Best is trial 4 with value: 0.9026770350209257.\n",
      "[I 2024-05-30 08:43:51,522] Trial 10 finished with value: 0.9162949544663987 and parameters: {'max_depth': 2, 'learning_rate': 0.49450757272327883, 'n_estimators': 496, 'min_child_weight': 2, 'gamma': 0.8032817764730658, 'subsample': 0.9785710722408402, 'colsample_bytree': 0.13907617137275913, 'reg_alpha': 0.12061038810387252, 'reg_lambda': 0.7768057850702913}. Best is trial 4 with value: 0.9026770350209257.\n",
      "[I 2024-05-30 08:43:53,378] Trial 11 finished with value: 0.9160793820974937 and parameters: {'max_depth': 2, 'learning_rate': 0.49537044328975843, 'n_estimators': 484, 'min_child_weight': 2, 'gamma': 0.7285888575862164, 'subsample': 0.9977717038958711, 'colsample_bytree': 0.15583132732325586, 'reg_alpha': 0.6879481747884992, 'reg_lambda': 0.7953684030862028}. Best is trial 4 with value: 0.9026770350209257.\n",
      "[I 2024-05-30 08:43:56,266] Trial 12 finished with value: 1.0559298022765766 and parameters: {'max_depth': 6, 'learning_rate': 0.010649147880425066, 'n_estimators': 425, 'min_child_weight': 3, 'gamma': 8.881694309105357e-06, 'subsample': 0.989605337566613, 'colsample_bytree': 0.11999236381206337, 'reg_alpha': 0.5801241720733957, 'reg_lambda': 0.01183516117577265}. Best is trial 4 with value: 0.9026770350209257.\n",
      "[I 2024-05-30 08:43:58,408] Trial 13 finished with value: 0.9247624741934672 and parameters: {'max_depth': 2, 'learning_rate': 0.47482582938001444, 'n_estimators': 428, 'min_child_weight': 0, 'gamma': 0.6548009091437172, 'subsample': 0.829673868446523, 'colsample_bytree': 0.15338715628126764, 'reg_alpha': 0.026040369362855403, 'reg_lambda': 0.008485584110498778}. Best is trial 4 with value: 0.9026770350209257.\n",
      "[I 2024-05-30 08:44:00,645] Trial 14 finished with value: 0.9069003110676984 and parameters: {'max_depth': 4, 'learning_rate': 0.20192991938356186, 'n_estimators': 431, 'min_child_weight': 3, 'gamma': 1.4862836821541708e-06, 'subsample': 0.5077864401925906, 'colsample_bytree': 0.09253608110087849, 'reg_alpha': 3.940203025030043e-05, 'reg_lambda': 0.7302531581823763}. Best is trial 4 with value: 0.9026770350209257.\n",
      "[I 2024-05-30 08:44:03,828] Trial 15 finished with value: 0.90616248788037 and parameters: {'max_depth': 4, 'learning_rate': 0.19835848739840198, 'n_estimators': 418, 'min_child_weight': 5, 'gamma': 8.819539362514639e-07, 'subsample': 0.5021195335417459, 'colsample_bytree': 0.08662728136127527, 'reg_alpha': 4.3063579851018123e-05, 'reg_lambda': 1.011956557561761e-08}. Best is trial 4 with value: 0.9026770350209257.\n",
      "[I 2024-05-30 08:44:05,808] Trial 16 finished with value: 0.9349854414963655 and parameters: {'max_depth': 4, 'learning_rate': 0.1324257866138344, 'n_estimators': 319, 'min_child_weight': 5, 'gamma': 8.997775337193925e-08, 'subsample': 0.5015665278323567, 'colsample_bytree': 0.061137196965472325, 'reg_alpha': 1.9575591160966033e-06, 'reg_lambda': 1.4134232829838521e-08}. Best is trial 4 with value: 0.9026770350209257.\n",
      "[I 2024-05-30 08:44:09,967] Trial 17 finished with value: 0.8888101460648054 and parameters: {'max_depth': 6, 'learning_rate': 0.28075221948973783, 'n_estimators': 388, 'min_child_weight': 7, 'gamma': 3.5125483757991565e-07, 'subsample': 0.6044062161529101, 'colsample_bytree': 0.09928472198979538, 'reg_alpha': 1.0351051603538812e-08, 'reg_lambda': 1.1978571813067412e-08}. Best is trial 17 with value: 0.8888101460648054.\n",
      "[I 2024-05-30 08:44:12,966] Trial 18 finished with value: 0.8893284298834271 and parameters: {'max_depth': 6, 'learning_rate': 0.2797389791435679, 'n_estimators': 375, 'min_child_weight': 8, 'gamma': 6.749697066133002e-05, 'subsample': 0.5796726595708792, 'colsample_bytree': 0.21441061656141588, 'reg_alpha': 2.5857609185819544e-08, 'reg_lambda': 2.4386063733507125e-07}. Best is trial 17 with value: 0.8888101460648054.\n",
      "[I 2024-05-30 08:44:14,627] Trial 19 finished with value: 0.9043912538058565 and parameters: {'max_depth': 6, 'learning_rate': 0.12455188742288613, 'n_estimators': 286, 'min_child_weight': 8, 'gamma': 1.1373527028431478e-05, 'subsample': 0.6089912027756308, 'colsample_bytree': 0.22129955218028452, 'reg_alpha': 1.2324579192252204e-08, 'reg_lambda': 1.7538323594015451e-07}. Best is trial 17 with value: 0.8888101460648054.\n",
      "[I 2024-05-30 08:44:16,370] Trial 20 finished with value: 0.8902034768754549 and parameters: {'max_depth': 6, 'learning_rate': 0.3202544909854498, 'n_estimators': 379, 'min_child_weight': 10, 'gamma': 1.4582814961284473e-08, 'subsample': 0.601418885290442, 'colsample_bytree': 0.2840144437308751, 'reg_alpha': 1.0812350628806497e-08, 'reg_lambda': 1.2723071932339485e-07}. Best is trial 17 with value: 0.8888101460648054.\n",
      "[I 2024-05-30 08:44:18,497] Trial 21 finished with value: 0.89007827163857 and parameters: {'max_depth': 6, 'learning_rate': 0.30161240181963345, 'n_estimators': 370, 'min_child_weight': 10, 'gamma': 1.12419083790078e-08, 'subsample': 0.5964945061310946, 'colsample_bytree': 0.3111582166193015, 'reg_alpha': 1.984522652236631e-08, 'reg_lambda': 1.4781274706624977e-07}. Best is trial 17 with value: 0.8888101460648054.\n",
      "[I 2024-05-30 08:44:20,276] Trial 22 finished with value: 0.8877269559194095 and parameters: {'max_depth': 6, 'learning_rate': 0.2489194128665048, 'n_estimators': 373, 'min_child_weight': 8, 'gamma': 1.2592710574679406e-07, 'subsample': 0.5977535493681075, 'colsample_bytree': 0.18988958482894222, 'reg_alpha': 1.7165986222072743e-07, 'reg_lambda': 6.801106423887236e-07}. Best is trial 22 with value: 0.8877269559194095.\n",
      "[I 2024-05-30 08:44:21,965] Trial 23 finished with value: 0.8894799994638491 and parameters: {'max_depth': 6, 'learning_rate': 0.2362277018439756, 'n_estimators': 274, 'min_child_weight': 8, 'gamma': 3.2933369053151004e-07, 'subsample': 0.7228197732762048, 'colsample_bytree': 0.21693290074764648, 'reg_alpha': 1.3923969561486233e-07, 'reg_lambda': 8.540626111060567e-07}. Best is trial 22 with value: 0.8877269559194095.\n",
      "[I 2024-05-30 08:44:24,073] Trial 24 finished with value: 0.8916122223006961 and parameters: {'max_depth': 6, 'learning_rate': 0.13990473505124376, 'n_estimators': 387, 'min_child_weight': 7, 'gamma': 1.1624822299296074e-07, 'subsample': 0.6264933611371145, 'colsample_bytree': 0.18031586362193372, 'reg_alpha': 4.919154030708527e-07, 'reg_lambda': 4.7839670389151895e-08}. Best is trial 22 with value: 0.8877269559194095.\n",
      "[I 2024-05-30 08:44:25,635] Trial 25 finished with value: 0.8905942039954005 and parameters: {'max_depth': 5, 'learning_rate': 0.3640562174124598, 'n_estimators': 304, 'min_child_weight': 9, 'gamma': 6.646320330228719e-05, 'subsample': 0.7798584020742578, 'colsample_bytree': 0.10097172020258863, 'reg_alpha': 6.159234334920472e-08, 'reg_lambda': 9.522038700957809e-07}. Best is trial 22 with value: 0.8877269559194095.\n",
      "[I 2024-05-30 08:44:28,332] Trial 26 finished with value: 0.89426158529322 and parameters: {'max_depth': 6, 'learning_rate': 0.16555654869812755, 'n_estimators': 349, 'min_child_weight': 7, 'gamma': 4.210370907351899e-06, 'subsample': 0.5745654216448658, 'colsample_bytree': 0.07043977932414237, 'reg_alpha': 9.71714050168681e-07, 'reg_lambda': 3.440233600774998e-08}. Best is trial 22 with value: 0.8877269559194095.\n",
      "[I 2024-05-30 08:44:30,177] Trial 27 finished with value: 0.9429620789271697 and parameters: {'max_depth': 5, 'learning_rate': 0.10154730183329287, 'n_estimators': 238, 'min_child_weight': 9, 'gamma': 1.2647132919047653e-07, 'subsample': 0.5276206676553754, 'colsample_bytree': 0.1102486983333911, 'reg_alpha': 7.690130260244029e-08, 'reg_lambda': 7.140510314960027e-07}. Best is trial 22 with value: 0.8877269559194095.\n",
      "[I 2024-05-30 08:44:33,074] Trial 28 finished with value: 0.916996837152297 and parameters: {'max_depth': 6, 'learning_rate': 0.06151559897234136, 'n_estimators': 448, 'min_child_weight': 6, 'gamma': 2.9126457617884993e-06, 'subsample': 0.6301852679018211, 'colsample_bytree': 0.1897270767934647, 'reg_alpha': 3.239865270520245e-08, 'reg_lambda': 3.230809716733819e-05}. Best is trial 22 with value: 0.8877269559194095.\n",
      "[I 2024-05-30 08:44:34,760] Trial 29 finished with value: 1.0252295889550695 and parameters: {'max_depth': 5, 'learning_rate': 0.04653051124617873, 'n_estimators': 153, 'min_child_weight': 6, 'gamma': 3.268005088481597e-07, 'subsample': 0.66395828219161, 'colsample_bytree': 0.639081028982436, 'reg_alpha': 1.8222628640224143e-07, 'reg_lambda': 0.00014694996891506166}. Best is trial 22 with value: 0.8877269559194095.\n",
      "[I 2024-05-30 08:44:36,672] Trial 30 finished with value: 1.109241565934537 and parameters: {'max_depth': 5, 'learning_rate': 0.01248466746412782, 'n_estimators': 399, 'min_child_weight': 8, 'gamma': 3.185829553909422e-05, 'subsample': 0.5859696538923557, 'colsample_bytree': 0.050758747251957025, 'reg_alpha': 6.077703108102432e-07, 'reg_lambda': 3.784760851472718e-08}. Best is trial 22 with value: 0.8877269559194095.\n",
      "[I 2024-05-30 08:44:38,520] Trial 31 finished with value: 0.889407625056467 and parameters: {'max_depth': 6, 'learning_rate': 0.22319275113386236, 'n_estimators': 271, 'min_child_weight': 8, 'gamma': 5.637529211789455e-08, 'subsample': 0.721897675965499, 'colsample_bytree': 0.2479456770200516, 'reg_alpha': 1.4110573083388193e-07, 'reg_lambda': 9.027647607328103e-07}. Best is trial 22 with value: 0.8877269559194095.\n",
      "[I 2024-05-30 08:44:39,783] Trial 32 finished with value: 0.9012555421019695 and parameters: {'max_depth': 6, 'learning_rate': 0.24077900658404733, 'n_estimators': 185, 'min_child_weight': 7, 'gamma': 2.9795474793221796e-08, 'subsample': 0.759150578698145, 'colsample_bytree': 0.2582022550562017, 'reg_alpha': 2.0855666265955017e-07, 'reg_lambda': 4.5319236913364254e-07}. Best is trial 22 with value: 0.8877269559194095.\n",
      "[I 2024-05-30 08:44:41,657] Trial 33 finished with value: 1.0328185083207853 and parameters: {'max_depth': 6, 'learning_rate': 0.018057541689426398, 'n_estimators': 267, 'min_child_weight': 9, 'gamma': 2.9624578579868174e-07, 'subsample': 0.6810894293878684, 'colsample_bytree': 0.3619053586432632, 'reg_alpha': 4.575567203531362e-08, 'reg_lambda': 2.3294889260177315e-06}. Best is trial 22 with value: 0.8877269559194095.\n",
      "[I 2024-05-30 08:44:43,749] Trial 34 finished with value: 0.8896651912621383 and parameters: {'max_depth': 6, 'learning_rate': 0.35910378806253307, 'n_estimators': 356, 'min_child_weight': 8, 'gamma': 4.736083189344522e-08, 'subsample': 0.6892094274771079, 'colsample_bytree': 0.1714131513657393, 'reg_alpha': 8.441427067760819e-06, 'reg_lambda': 1.037454743165066e-07}. Best is trial 22 with value: 0.8877269559194095.\n",
      "[I 2024-05-30 08:44:45,461] Trial 35 finished with value: 0.8959326442074685 and parameters: {'max_depth': 5, 'learning_rate': 0.39176061537363754, 'n_estimators': 320, 'min_child_weight': 7, 'gamma': 0.008127764675204043, 'subsample': 0.8567915461161562, 'colsample_bytree': 0.4983950643595363, 'reg_alpha': 1.0154936191311996e-06, 'reg_lambda': 8.416481079814164e-06}. Best is trial 22 with value: 0.8877269559194095.\n",
      "[I 2024-05-30 08:44:48,182] Trial 36 finished with value: 0.8846691627440852 and parameters: {'max_depth': 6, 'learning_rate': 0.20072454515036106, 'n_estimators': 455, 'min_child_weight': 9, 'gamma': 3.31707449648422e-08, 'subsample': 0.6456428550126769, 'colsample_bytree': 0.9505977445470424, 'reg_alpha': 1.101854891448524e-08, 'reg_lambda': 3.283518768652054e-08}. Best is trial 36 with value: 0.8846691627440852.\n",
      "[I 2024-05-30 08:44:50,609] Trial 37 finished with value: 0.888483474948823 and parameters: {'max_depth': 6, 'learning_rate': 0.2743914890881755, 'n_estimators': 406, 'min_child_weight': 9, 'gamma': 0.0012921499032783994, 'subsample': 0.6513777336057405, 'colsample_bytree': 0.702728270868148, 'reg_alpha': 1.0114520239778867e-08, 'reg_lambda': 1.984507744567415e-08}. Best is trial 36 with value: 0.8846691627440852.\n",
      "[I 2024-05-30 08:44:53,401] Trial 38 finished with value: 0.8940417935223953 and parameters: {'max_depth': 5, 'learning_rate': 0.15832956481937294, 'n_estimators': 467, 'min_child_weight': 9, 'gamma': 0.0004358497178166887, 'subsample': 0.6464918879810592, 'colsample_bytree': 0.8161948507740346, 'reg_alpha': 1.0754684033419426e-08, 'reg_lambda': 1.9326890662000763e-08}. Best is trial 36 with value: 0.8846691627440852.\n",
      "[I 2024-05-30 08:44:56,084] Trial 39 finished with value: 0.8898400335804035 and parameters: {'max_depth': 6, 'learning_rate': 0.10447188572298914, 'n_estimators': 454, 'min_child_weight': 10, 'gamma': 0.0023171813856466667, 'subsample': 0.6195678961276916, 'colsample_bytree': 0.9820276719760139, 'reg_alpha': 0.0002405162952451525, 'reg_lambda': 4.9696697175506846e-08}. Best is trial 36 with value: 0.8846691627440852.\n",
      "[I 2024-05-30 08:44:57,885] Trial 40 finished with value: 0.8931924912778684 and parameters: {'max_depth': 5, 'learning_rate': 0.1984372597155479, 'n_estimators': 406, 'min_child_weight': 9, 'gamma': 0.0002334683541277655, 'subsample': 0.6545904670831277, 'colsample_bytree': 0.8454145118708208, 'reg_alpha': 2.769366513612141e-08, 'reg_lambda': 1.0823720301111587e-08}. Best is trial 36 with value: 0.8846691627440852.\n",
      "[I 2024-05-30 08:44:59,985] Trial 41 finished with value: 0.8907113014374364 and parameters: {'max_depth': 6, 'learning_rate': 0.27475267203728043, 'n_estimators': 450, 'min_child_weight': 9, 'gamma': 0.01233231660480659, 'subsample': 0.564178964316611, 'colsample_bytree': 0.6811758826410577, 'reg_alpha': 2.3710312821691007e-08, 'reg_lambda': 3.805274668422488e-07}. Best is trial 36 with value: 0.8846691627440852.\n",
      "[I 2024-05-30 08:45:02,005] Trial 42 finished with value: 0.908223168367568 and parameters: {'max_depth': 6, 'learning_rate': 0.39786254294349616, 'n_estimators': 369, 'min_child_weight': 7, 'gamma': 0.002457167713020653, 'subsample': 0.5544226511256771, 'colsample_bytree': 0.5314925047548202, 'reg_alpha': 6.36240645880927e-08, 'reg_lambda': 6.855072842208404e-08}. Best is trial 36 with value: 0.8846691627440852.\n",
      "[I 2024-05-30 08:45:05,439] Trial 43 finished with value: 0.8972270964971557 and parameters: {'max_depth': 6, 'learning_rate': 0.30100747231728764, 'n_estimators': 400, 'min_child_weight': 6, 'gamma': 0.00010429426790086757, 'subsample': 0.5845589769396632, 'colsample_bytree': 0.4332656091953498, 'reg_alpha': 4.3470748533632977e-07, 'reg_lambda': 2.2242241774381342e-07}. Best is trial 36 with value: 0.8846691627440852.\n",
      "[I 2024-05-30 08:45:07,617] Trial 44 finished with value: 0.8935099674847716 and parameters: {'max_depth': 6, 'learning_rate': 0.2656748201856472, 'n_estimators': 343, 'min_child_weight': 8, 'gamma': 0.024797852228216632, 'subsample': 0.5370216726866822, 'colsample_bytree': 0.7588792606133435, 'reg_alpha': 1.1094198316905795e-08, 'reg_lambda': 1.8147307974750228e-06}. Best is trial 36 with value: 0.8846691627440852.\n",
      "[I 2024-05-30 08:45:10,702] Trial 45 finished with value: 0.8885805628561181 and parameters: {'max_depth': 5, 'learning_rate': 0.182266105921069, 'n_estimators': 472, 'min_child_weight': 10, 'gamma': 0.0014520707297205426, 'subsample': 0.695916624979521, 'colsample_bytree': 0.3745181186282368, 'reg_alpha': 1.0152649265041744e-07, 'reg_lambda': 2.2840838268915753e-08}. Best is trial 36 with value: 0.8846691627440852.\n",
      "[I 2024-05-30 08:45:13,534] Trial 46 finished with value: 0.8912430227264722 and parameters: {'max_depth': 5, 'learning_rate': 0.16940951419461242, 'n_estimators': 474, 'min_child_weight': 10, 'gamma': 0.0018798349210417116, 'subsample': 0.7037250944546545, 'colsample_bytree': 0.4029289870353781, 'reg_alpha': 8.333695375715725e-06, 'reg_lambda': 2.1892643572520215e-08}. Best is trial 36 with value: 0.8846691627440852.\n",
      "[I 2024-05-30 08:45:15,978] Trial 47 finished with value: 0.9021990330589567 and parameters: {'max_depth': 5, 'learning_rate': 0.11591752972560164, 'n_estimators': 438, 'min_child_weight': 10, 'gamma': 0.0009406040795702007, 'subsample': 0.7501578813128986, 'colsample_bytree': 0.5589929478584774, 'reg_alpha': 9.879709073921215e-08, 'reg_lambda': 2.4894298937715534e-08}. Best is trial 36 with value: 0.8846691627440852.\n",
      "[I 2024-05-30 08:45:18,104] Trial 48 finished with value: 0.9359135892898811 and parameters: {'max_depth': 4, 'learning_rate': 0.07389258244249562, 'n_estimators': 488, 'min_child_weight': 9, 'gamma': 0.21017163234019434, 'subsample': 0.6789962588052757, 'colsample_bytree': 0.7038576369430948, 'reg_alpha': 0.004048549064791504, 'reg_lambda': 0.000677208275908774}. Best is trial 36 with value: 0.8846691627440852.\n",
      "[I 2024-05-30 08:45:20,526] Trial 49 finished with value: 0.8966566786437777 and parameters: {'max_depth': 5, 'learning_rate': 0.19668510467274317, 'n_estimators': 414, 'min_child_weight': 4, 'gamma': 0.004169072795758423, 'subsample': 0.6432622039007683, 'colsample_bytree': 0.3482126350790104, 'reg_alpha': 3.29332237650311e-07, 'reg_lambda': 8.800678070833297e-08}. Best is trial 36 with value: 0.8846691627440852.\n",
      "[I 2024-05-30 08:45:23,025] Trial 50 finished with value: 0.9281704163679325 and parameters: {'max_depth': 3, 'learning_rate': 0.1480650523927892, 'n_estimators': 459, 'min_child_weight': 10, 'gamma': 2.2139460899049262e-08, 'subsample': 0.6163841535292095, 'colsample_bytree': 0.8830244349383642, 'reg_alpha': 3.722679923222652e-08, 'reg_lambda': 1.1452963821063941e-08}. Best is trial 36 with value: 0.8846691627440852.\n",
      "[I 2024-05-30 08:45:25,678] Trial 51 finished with value: 0.8842046769881561 and parameters: {'max_depth': 6, 'learning_rate': 0.25251005733343107, 'n_estimators': 497, 'min_child_weight': 8, 'gamma': 7.055699579201354e-07, 'subsample': 0.5918161474238437, 'colsample_bytree': 0.2011332650762408, 'reg_alpha': 2.3313798041255717e-08, 'reg_lambda': 2.3141657611290056e-07}. Best is trial 51 with value: 0.8842046769881561.\n",
      "[I 2024-05-30 08:45:28,031] Trial 52 finished with value: 0.8962068290594459 and parameters: {'max_depth': 6, 'learning_rate': 0.4162979892752882, 'n_estimators': 494, 'min_child_weight': 9, 'gamma': 8.499576708969147e-07, 'subsample': 0.6602567121555275, 'colsample_bytree': 0.1300087006951251, 'reg_alpha': 2.2079933909271137e-08, 'reg_lambda': 6.467725070847072e-08}. Best is trial 51 with value: 0.8842046769881561.\n",
      "[I 2024-05-30 08:45:30,936] Trial 53 finished with value: 0.8853299293313883 and parameters: {'max_depth': 6, 'learning_rate': 0.23193873410700686, 'n_estimators': 476, 'min_child_weight': 9, 'gamma': 3.449304713083496e-07, 'subsample': 0.5986570755074185, 'colsample_bytree': 0.30629323650524626, 'reg_alpha': 8.537491438730992e-08, 'reg_lambda': 2.597062262674098e-08}. Best is trial 51 with value: 0.8842046769881561.\n",
      "[I 2024-05-30 08:45:34,091] Trial 54 finished with value: 0.8854790134726326 and parameters: {'max_depth': 6, 'learning_rate': 0.21794620400182965, 'n_estimators': 478, 'min_child_weight': 9, 'gamma': 1.3278569651067105e-07, 'subsample': 0.6390756755469722, 'colsample_bytree': 0.3355465498730984, 'reg_alpha': 1.0022853413001774e-07, 'reg_lambda': 3.4333134618696257e-07}. Best is trial 51 with value: 0.8842046769881561.\n",
      "[I 2024-05-30 08:45:36,405] Trial 55 finished with value: 0.8840965212476043 and parameters: {'max_depth': 6, 'learning_rate': 0.23043013873498272, 'n_estimators': 498, 'min_child_weight': 9, 'gamma': 1.1779875885925974e-07, 'subsample': 0.6347818137907943, 'colsample_bytree': 0.31937705506455816, 'reg_alpha': 1.947280978497526e-06, 'reg_lambda': 2.3724919028489883e-07}. Best is trial 55 with value: 0.8840965212476043.\n",
      "[I 2024-05-30 08:45:38,802] Trial 56 finished with value: 0.8860871639320014 and parameters: {'max_depth': 6, 'learning_rate': 0.22703716363276855, 'n_estimators': 494, 'min_child_weight': 8, 'gamma': 1.698004849606824e-07, 'subsample': 0.5890962994045651, 'colsample_bytree': 0.3123084484043061, 'reg_alpha': 1.4080100402906046e-06, 'reg_lambda': 3.9501177735377324e-07}. Best is trial 55 with value: 0.8840965212476043.\n",
      "[I 2024-05-30 08:45:41,463] Trial 57 finished with value: 0.8841077430723352 and parameters: {'max_depth': 6, 'learning_rate': 0.2257433846820636, 'n_estimators': 499, 'min_child_weight': 8, 'gamma': 6.342144950379388e-07, 'subsample': 0.6296356098942502, 'colsample_bytree': 0.31915493769539005, 'reg_alpha': 3.521452951015711e-06, 'reg_lambda': 3.5309625776939945e-07}. Best is trial 55 with value: 0.8840965212476043.\n",
      "[I 2024-05-30 08:45:43,531] Trial 58 finished with value: 0.9070825627061845 and parameters: {'max_depth': 3, 'learning_rate': 0.32562758163354033, 'n_estimators': 500, 'min_child_weight': 9, 'gamma': 1.3730366701060077e-06, 'subsample': 0.631266882281155, 'colsample_bytree': 0.3291015901053096, 'reg_alpha': 4.5326461686301334e-06, 'reg_lambda': 6.1935633716619915e-06}. Best is trial 55 with value: 0.8840965212476043.\n",
      "[I 2024-05-30 08:45:46,336] Trial 59 finished with value: 0.8844401183214258 and parameters: {'max_depth': 6, 'learning_rate': 0.21779185207619026, 'n_estimators': 479, 'min_child_weight': 8, 'gamma': 5.373056759807235e-08, 'subsample': 0.5495851661391673, 'colsample_bytree': 0.2826077253275418, 'reg_alpha': 0.00012424776447746402, 'reg_lambda': 3.306658134104468e-05}. Best is trial 55 with value: 0.8840965212476043.\n",
      "[I 2024-05-30 08:45:51,687] Trial 60 finished with value: 0.8854369322609748 and parameters: {'max_depth': 6, 'learning_rate': 0.13990156581400506, 'n_estimators': 465, 'min_child_weight': 8, 'gamma': 6.906253144829132e-07, 'subsample': 0.5216757934156487, 'colsample_bytree': 0.2824712189231801, 'reg_alpha': 8.856354514552827e-05, 'reg_lambda': 3.0001861207028993e-05}. Best is trial 55 with value: 0.8840965212476043.\n",
      "[I 2024-05-30 08:45:54,003] Trial 61 finished with value: 0.8878558595106961 and parameters: {'max_depth': 6, 'learning_rate': 0.17534091083366604, 'n_estimators': 441, 'min_child_weight': 8, 'gamma': 5.62941479639616e-08, 'subsample': 0.5160282696209408, 'colsample_bytree': 0.28785724314807964, 'reg_alpha': 8.334486371812966e-05, 'reg_lambda': 2.0898057378469745e-05}. Best is trial 55 with value: 0.8840965212476043.\n",
      "[I 2024-05-30 08:45:57,016] Trial 62 finished with value: 0.8874945143282688 and parameters: {'max_depth': 6, 'learning_rate': 0.14916287678907522, 'n_estimators': 463, 'min_child_weight': 7, 'gamma': 6.322910908534361e-07, 'subsample': 0.5437894237074777, 'colsample_bytree': 0.24259728081586518, 'reg_alpha': 0.0010663520979341927, 'reg_lambda': 7.491969358311235e-05}. Best is trial 55 with value: 0.8840965212476043.\n",
      "[I 2024-05-30 08:45:59,669] Trial 63 finished with value: 0.8951051022757884 and parameters: {'max_depth': 6, 'learning_rate': 0.08936564604086888, 'n_estimators': 477, 'min_child_weight': 8, 'gamma': 2.9892528143944006e-06, 'subsample': 0.5563315125828852, 'colsample_bytree': 0.4675003971133217, 'reg_alpha': 2.1188633799627484e-05, 'reg_lambda': 0.0008359651107507113}. Best is trial 55 with value: 0.8840965212476043.\n",
      "[I 2024-05-30 08:46:02,362] Trial 64 finished with value: 0.8982426726281847 and parameters: {'max_depth': 6, 'learning_rate': 0.1268936026943243, 'n_estimators': 500, 'min_child_weight': 0, 'gamma': 6.09446378272841e-07, 'subsample': 0.5393984210951981, 'colsample_bytree': 0.27267581529245283, 'reg_alpha': 0.00011443434076570267, 'reg_lambda': 0.00038437443067055265}. Best is trial 55 with value: 0.8840965212476043.\n",
      "[I 2024-05-30 08:46:05,120] Trial 65 finished with value: 0.8859133569838791 and parameters: {'max_depth': 6, 'learning_rate': 0.20850067818811055, 'n_estimators': 436, 'min_child_weight': 8, 'gamma': 9.964741455352768e-06, 'subsample': 0.5198577148732229, 'colsample_bytree': 0.19819553164959647, 'reg_alpha': 0.001383451136123997, 'reg_lambda': 3.55076474961043e-05}. Best is trial 55 with value: 0.8840965212476043.\n",
      "[I 2024-05-30 08:46:08,086] Trial 66 finished with value: 0.887725632459843 and parameters: {'max_depth': 6, 'learning_rate': 0.24438383650905546, 'n_estimators': 483, 'min_child_weight': 7, 'gamma': 1.7450362894809106e-08, 'subsample': 0.6129070954384039, 'colsample_bytree': 0.2291406910310169, 'reg_alpha': 0.0003043046795289675, 'reg_lambda': 0.0017698140916093986}. Best is trial 55 with value: 0.8840965212476043.\n",
      "[I 2024-05-30 08:46:10,418] Trial 67 finished with value: 0.8873105382981968 and parameters: {'max_depth': 6, 'learning_rate': 0.1864280072308606, 'n_estimators': 423, 'min_child_weight': 6, 'gamma': 1.8748097193427187e-06, 'subsample': 0.5716287122581339, 'colsample_bytree': 0.1548762698261253, 'reg_alpha': 0.009276778810940627, 'reg_lambda': 5.131873402474733e-06}. Best is trial 55 with value: 0.8840965212476043.\n",
      "[I 2024-05-30 08:46:13,166] Trial 68 finished with value: 0.8931390320027264 and parameters: {'max_depth': 6, 'learning_rate': 0.3361108688329962, 'n_estimators': 460, 'min_child_weight': 8, 'gamma': 2.3031743860660657e-07, 'subsample': 0.5982074877126708, 'colsample_bytree': 0.295889858827811, 'reg_alpha': 1.1336314322753602e-05, 'reg_lambda': 0.0038534734364845838}. Best is trial 55 with value: 0.8840965212476043.\n",
      "[I 2024-05-30 08:46:15,776] Trial 69 finished with value: 0.8897148677283028 and parameters: {'max_depth': 6, 'learning_rate': 0.114133700596104, 'n_estimators': 482, 'min_child_weight': 9, 'gamma': 8.265663605663937e-08, 'subsample': 0.5497627223697704, 'colsample_bytree': 0.26417254155434966, 'reg_alpha': 4.641401464894378e-05, 'reg_lambda': 1.7188411233171736e-06}. Best is trial 55 with value: 0.8840965212476043.\n",
      "[I 2024-05-30 08:46:18,454] Trial 70 finished with value: 0.9679886746873947 and parameters: {'max_depth': 6, 'learning_rate': 0.4473880493111138, 'n_estimators': 445, 'min_child_weight': 1, 'gamma': 5.706906946000427e-06, 'subsample': 0.5663198285627484, 'colsample_bytree': 0.39429169919332147, 'reg_alpha': 0.0001394246101957427, 'reg_lambda': 0.041285977255635944}. Best is trial 55 with value: 0.8840965212476043.\n",
      "[I 2024-05-30 08:46:21,493] Trial 71 finished with value: 0.8857400214585249 and parameters: {'max_depth': 6, 'learning_rate': 0.21867076401799904, 'n_estimators': 469, 'min_child_weight': 9, 'gamma': 4.905444601477452e-07, 'subsample': 0.634640804079242, 'colsample_bytree': 0.33679946958389056, 'reg_alpha': 4.5311834400596455e-06, 'reg_lambda': 2.1422321711115348e-07}. Best is trial 55 with value: 0.8840965212476043.\n",
      "[I 2024-05-30 08:46:24,367] Trial 72 finished with value: 0.8884282202884286 and parameters: {'max_depth': 6, 'learning_rate': 0.2539845490603049, 'n_estimators': 480, 'min_child_weight': 9, 'gamma': 4.1441670879012506e-08, 'subsample': 0.5284536500432803, 'colsample_bytree': 0.3081408438954917, 'reg_alpha': 6.495945089905645e-05, 'reg_lambda': 1.2312715151680974e-05}. Best is trial 55 with value: 0.8840965212476043.\n",
      "[I 2024-05-30 08:46:26,586] Trial 73 finished with value: 0.8819519912179181 and parameters: {'max_depth': 6, 'learning_rate': 0.21532304299402286, 'n_estimators': 487, 'min_child_weight': 10, 'gamma': 1.641018426173674e-07, 'subsample': 0.6089207360210591, 'colsample_bytree': 0.20452963453270187, 'reg_alpha': 2.2855198754623925e-06, 'reg_lambda': 3.584596436391025e-06}. Best is trial 73 with value: 0.8819519912179181.\n",
      "[I 2024-05-30 08:46:28,737] Trial 74 finished with value: 0.8855609397913893 and parameters: {'max_depth': 6, 'learning_rate': 0.30320712057544363, 'n_estimators': 456, 'min_child_weight': 10, 'gamma': 3.2028560936111743e-08, 'subsample': 0.6065037637662463, 'colsample_bytree': 0.20378224052081814, 'reg_alpha': 2.6139720987378064e-06, 'reg_lambda': 3.774270645105162e-05}. Best is trial 73 with value: 0.8819519912179181.\n",
      "[I 2024-05-30 08:46:29,618] Trial 75 finished with value: 0.9609889764179664 and parameters: {'max_depth': 6, 'learning_rate': 0.15737801744924057, 'n_estimators': 88, 'min_child_weight': 10, 'gamma': 2.127109487984955e-07, 'subsample': 0.5811476830498384, 'colsample_bytree': 0.16755959634139156, 'reg_alpha': 1.6638707221513437e-05, 'reg_lambda': 3.649509177170031e-06}. Best is trial 73 with value: 0.8819519912179181.\n",
      "[I 2024-05-30 08:46:31,682] Trial 76 finished with value: 0.9681361047464792 and parameters: {'max_depth': 2, 'learning_rate': 0.13689069368229673, 'n_estimators': 500, 'min_child_weight': 8, 'gamma': 1.1627668617918651e-06, 'subsample': 0.6208704740055658, 'colsample_bytree': 0.22831323410494345, 'reg_alpha': 2.9174258746818695e-05, 'reg_lambda': 0.00016051555936917657}. Best is trial 73 with value: 0.8819519912179181.\n",
      "[I 2024-05-30 08:46:34,133] Trial 77 finished with value: 0.8826689583347473 and parameters: {'max_depth': 6, 'learning_rate': 0.18540421034204987, 'n_estimators': 430, 'min_child_weight': 10, 'gamma': 7.992786072055546e-08, 'subsample': 0.9412745515499517, 'colsample_bytree': 0.42826089969054704, 'reg_alpha': 1.928205847649937e-06, 'reg_lambda': 1.1837638832187913e-06}. Best is trial 73 with value: 0.8819519912179181.\n",
      "[I 2024-05-30 08:46:36,536] Trial 78 finished with value: 0.9920243378051481 and parameters: {'max_depth': 5, 'learning_rate': 0.0251920612921482, 'n_estimators': 490, 'min_child_weight': 10, 'gamma': 9.647699839683372e-08, 'subsample': 0.9306180563625011, 'colsample_bytree': 0.4342376911492187, 'reg_alpha': 8.108780466094671e-07, 'reg_lambda': 1.3242185065786154e-06}. Best is trial 73 with value: 0.8819519912179181.\n",
      "[I 2024-05-30 08:46:39,526] Trial 79 finished with value: 0.9300905530366232 and parameters: {'max_depth': 6, 'learning_rate': 0.0531208052732604, 'n_estimators': 435, 'min_child_weight': 10, 'gamma': 1.4529593186135455e-08, 'subsample': 0.902512622264205, 'colsample_bytree': 0.2472666582519039, 'reg_alpha': 2.8042522215745364e-07, 'reg_lambda': 5.803351403889808e-07}. Best is trial 73 with value: 0.8819519912179181.\n",
      "[I 2024-05-30 08:46:41,427] Trial 80 finished with value: 0.887648283676764 and parameters: {'max_depth': 6, 'learning_rate': 0.3651789857545647, 'n_estimators': 423, 'min_child_weight': 10, 'gamma': 1.0437396652295182e-08, 'subsample': 0.6697800425065835, 'colsample_bytree': 0.139074577735756, 'reg_alpha': 1.8076615774473172e-06, 'reg_lambda': 1.1498952583314928e-07}. Best is trial 73 with value: 0.8819519912179181.\n",
      "[I 2024-05-30 08:46:44,030] Trial 81 finished with value: 0.8838597124937891 and parameters: {'max_depth': 6, 'learning_rate': 0.1855106252879073, 'n_estimators': 467, 'min_child_weight': 9, 'gamma': 7.511353189060838e-08, 'subsample': 0.5917899994919437, 'colsample_bytree': 0.21016744544637556, 'reg_alpha': 3.1986476489066118e-06, 'reg_lambda': 1.3497645178510331e-05}. Best is trial 73 with value: 0.8819519912179181.\n",
      "[I 2024-05-30 08:46:46,584] Trial 82 finished with value: 0.8848815707444008 and parameters: {'max_depth': 6, 'learning_rate': 0.19728143314186228, 'n_estimators': 450, 'min_child_weight': 9, 'gamma': 3.763350191185774e-07, 'subsample': 0.5942746531786262, 'colsample_bytree': 0.20591059929007155, 'reg_alpha': 3.278215029162878e-06, 'reg_lambda': 3.925173995674919e-06}. Best is trial 73 with value: 0.8819519912179181.\n",
      "[I 2024-05-30 08:46:50,422] Trial 83 finished with value: 0.8853722018255603 and parameters: {'max_depth': 6, 'learning_rate': 0.1910267349115182, 'n_estimators': 450, 'min_child_weight': 9, 'gamma': 7.033832571541246e-08, 'subsample': 0.5871398178251845, 'colsample_bytree': 0.17868251655182366, 'reg_alpha': 9.517389072291368e-06, 'reg_lambda': 3.0652037990604187e-06}. Best is trial 73 with value: 0.8819519912179181.\n",
      "[I 2024-05-30 08:46:53,228] Trial 84 finished with value: 0.8819812295244382 and parameters: {'max_depth': 6, 'learning_rate': 0.17045365713296695, 'n_estimators': 465, 'min_child_weight': 9, 'gamma': 2.231397319381783e-08, 'subsample': 0.7801547954378848, 'colsample_bytree': 0.20477115046995123, 'reg_alpha': 3.3707229112254276e-06, 'reg_lambda': 1.046460414702692e-05}. Best is trial 73 with value: 0.8819519912179181.\n",
      "[I 2024-05-30 08:46:56,354] Trial 85 finished with value: 0.8825396024926319 and parameters: {'max_depth': 6, 'learning_rate': 0.16580255972127014, 'n_estimators': 466, 'min_child_weight': 10, 'gamma': 3.106488552673101e-08, 'subsample': 0.8572490911581433, 'colsample_bytree': 0.16675810191950202, 'reg_alpha': 6.214970710942035e-06, 'reg_lambda': 1.2040820303121789e-05}. Best is trial 73 with value: 0.8819519912179181.\n",
      "[I 2024-05-30 08:46:58,786] Trial 86 finished with value: 0.8805098057706626 and parameters: {'max_depth': 6, 'learning_rate': 0.16978619468665965, 'n_estimators': 490, 'min_child_weight': 10, 'gamma': 2.3362913173018954e-08, 'subsample': 0.8131549975697454, 'colsample_bytree': 0.16345689196949725, 'reg_alpha': 5.580994400653213e-06, 'reg_lambda': 9.639384664312573e-06}. Best is trial 86 with value: 0.8805098057706626.\n",
      "[I 2024-05-30 08:47:02,132] Trial 87 finished with value: 0.8820063142255516 and parameters: {'max_depth': 6, 'learning_rate': 0.17286003625875976, 'n_estimators': 487, 'min_child_weight': 10, 'gamma': 1.803346838531778e-08, 'subsample': 0.8088449030567971, 'colsample_bytree': 0.16388578216350763, 'reg_alpha': 5.555123187182204e-06, 'reg_lambda': 1.0744573800863097e-06}. Best is trial 86 with value: 0.8805098057706626.\n",
      "[I 2024-05-30 08:47:05,470] Trial 88 finished with value: 0.881897308882075 and parameters: {'max_depth': 6, 'learning_rate': 0.16133538285532736, 'n_estimators': 488, 'min_child_weight': 10, 'gamma': 2.7273568628677367e-08, 'subsample': 0.8012534537464903, 'colsample_bytree': 0.16673069334823915, 'reg_alpha': 5.373618143286412e-06, 'reg_lambda': 1.0421995239522e-05}. Best is trial 86 with value: 0.8805098057706626.\n",
      "[I 2024-05-30 08:47:08,623] Trial 89 finished with value: 0.8833588909570658 and parameters: {'max_depth': 6, 'learning_rate': 0.1683083503025522, 'n_estimators': 486, 'min_child_weight': 10, 'gamma': 2.5649207714553474e-08, 'subsample': 0.8110334005391798, 'colsample_bytree': 0.12149675908965243, 'reg_alpha': 5.995405802810851e-06, 'reg_lambda': 9.331996287455613e-06}. Best is trial 86 with value: 0.8805098057706626.\n",
      "[I 2024-05-30 08:47:11,163] Trial 90 finished with value: 0.9064033952653497 and parameters: {'max_depth': 4, 'learning_rate': 0.16601068665027258, 'n_estimators': 467, 'min_child_weight': 10, 'gamma': 1.681892724881162e-08, 'subsample': 0.8171024324573349, 'colsample_bytree': 0.11385062400642544, 'reg_alpha': 7.82242245702164e-06, 'reg_lambda': 9.91312120642507e-06}. Best is trial 86 with value: 0.8805098057706626.\n",
      "[I 2024-05-30 08:47:13,958] Trial 91 finished with value: 0.8884881940418232 and parameters: {'max_depth': 6, 'learning_rate': 0.11804470764841721, 'n_estimators': 487, 'min_child_weight': 10, 'gamma': 2.5321094377254706e-08, 'subsample': 0.8026455262037101, 'colsample_bytree': 0.14159494634468686, 'reg_alpha': 5.826116730336679e-06, 'reg_lambda': 1.677216884492797e-05}. Best is trial 86 with value: 0.8805098057706626.\n",
      "[I 2024-05-30 08:47:16,630] Trial 92 finished with value: 0.8803473825764682 and parameters: {'max_depth': 6, 'learning_rate': 0.17531958896517416, 'n_estimators': 486, 'min_child_weight': 10, 'gamma': 2.3267069037197655e-08, 'subsample': 0.8608218419420217, 'colsample_bytree': 0.1494571255640542, 'reg_alpha': 1.4779875231500714e-06, 'reg_lambda': 7.967218213201913e-06}. Best is trial 92 with value: 0.8803473825764682.\n",
      "[I 2024-05-30 08:47:19,230] Trial 93 finished with value: 0.8970465075134596 and parameters: {'max_depth': 6, 'learning_rate': 0.10405495962504091, 'n_estimators': 431, 'min_child_weight': 10, 'gamma': 2.6193148440749074e-08, 'subsample': 0.8507404001068399, 'colsample_bytree': 0.16602466982849637, 'reg_alpha': 1.399584594392439e-05, 'reg_lambda': 7.815369565090345e-06}. Best is trial 92 with value: 0.8803473825764682.\n",
      "[I 2024-05-30 08:47:21,774] Trial 94 finished with value: 0.8850476762156763 and parameters: {'max_depth': 6, 'learning_rate': 0.15250126785113596, 'n_estimators': 464, 'min_child_weight': 10, 'gamma': 1.0915396070239053e-08, 'subsample': 0.7833990863595416, 'colsample_bytree': 0.14699189536876184, 'reg_alpha': 7.087848934380743e-07, 'reg_lambda': 6.50660444836244e-05}. Best is trial 92 with value: 0.8803473825764682.\n",
      "[I 2024-05-30 08:47:24,801] Trial 95 finished with value: 0.8801389341385122 and parameters: {'max_depth': 6, 'learning_rate': 0.17553747266402045, 'n_estimators': 486, 'min_child_weight': 10, 'gamma': 1.9765857044100642e-08, 'subsample': 0.8727907945809239, 'colsample_bytree': 0.15947307416946607, 'reg_alpha': 1.5754650156559335e-06, 'reg_lambda': 1.9085549879530172e-05}. Best is trial 95 with value: 0.8801389341385122.\n",
      "[I 2024-05-30 08:47:27,983] Trial 96 finished with value: 0.8998427468635205 and parameters: {'max_depth': 6, 'learning_rate': 0.08803817794391144, 'n_estimators': 489, 'min_child_weight': 10, 'gamma': 3.700326439902852e-08, 'subsample': 0.8909485286802998, 'colsample_bytree': 0.12600971193700766, 'reg_alpha': 1.2439810174575627e-06, 'reg_lambda': 2.2082836388638147e-05}. Best is trial 95 with value: 0.8801389341385122.\n",
      "[I 2024-05-30 08:47:31,003] Trial 97 finished with value: 0.8899154782682637 and parameters: {'max_depth': 5, 'learning_rate': 0.17202471596832716, 'n_estimators': 486, 'min_child_weight': 10, 'gamma': 2.0150264731036252e-08, 'subsample': 0.8427843780854778, 'colsample_bytree': 0.18415332729989342, 'reg_alpha': 5.707840043631591e-06, 'reg_lambda': 2.444907353885502e-06}. Best is trial 95 with value: 0.8801389341385122.\n",
      "[I 2024-05-30 08:47:33,843] Trial 98 finished with value: 0.8885217353593667 and parameters: {'max_depth': 6, 'learning_rate': 0.1363750962033333, 'n_estimators': 447, 'min_child_weight': 10, 'gamma': 4.256040437671303e-08, 'subsample': 0.8775852167271864, 'colsample_bytree': 0.16054985243477332, 'reg_alpha': 2.262510058150854e-06, 'reg_lambda': 5.549028693639406e-06}. Best is trial 95 with value: 0.8801389341385122.\n",
      "[I 2024-05-30 08:47:36,923] Trial 99 finished with value: 0.8876770835091319 and parameters: {'max_depth': 6, 'learning_rate': 0.1470317391844206, 'n_estimators': 458, 'min_child_weight': 10, 'gamma': 1.4152207749275425e-08, 'subsample': 0.9629348312910543, 'colsample_bytree': 0.10351774448332562, 'reg_alpha': 1.4529024112150552e-06, 'reg_lambda': 6.140812778799573e-05}. Best is trial 95 with value: 0.8801389341385122.\n"
     ]
    }
   ],
   "source": [
    "sampler = optuna.samplers.TPESampler(seed=123)\n",
    "study = optuna.create_study(sampler=sampler, direction='minimize')\n",
    "study.optimize(objective, n_trials=100)"
   ]
  },
  {
   "cell_type": "code",
   "execution_count": 28,
   "id": "e74ecbd8-cb63-495f-9057-2282b8fe8bee",
   "metadata": {},
   "outputs": [],
   "source": [
    "trial = study.best_trial\n",
    "params = trial.params\n",
    "xgboost_model = XGBRegressor(**params)\n",
    "xgboost_model.fit(trainx, trainy)\n",
    "\n",
    "preds = xgboost_model.predict(testx)"
   ]
  },
  {
   "cell_type": "code",
   "execution_count": null,
   "id": "e703eb67-f5c6-4cdc-857e-989645cae3af",
   "metadata": {},
   "outputs": [],
   "source": []
  },
  {
   "cell_type": "code",
   "execution_count": null,
   "id": "fbc6beae-494c-408f-a815-871bf588b41f",
   "metadata": {},
   "outputs": [],
   "source": []
  },
  {
   "cell_type": "code",
   "execution_count": 55,
   "id": "74ef2fd7-10ed-4091-aafd-8919e3a028c7",
   "metadata": {},
   "outputs": [
    {
     "data": {
      "text/plain": [
       "(51590, 78, 21)"
      ]
     },
     "execution_count": 55,
     "metadata": {},
     "output_type": "execute_result"
    }
   ],
   "source": [
    "fcdata.shape"
   ]
  },
  {
   "cell_type": "code",
   "execution_count": 58,
   "id": "9d502551-23fa-436f-afff-fc381c44d4ff",
   "metadata": {},
   "outputs": [],
   "source": [
    "#cdrseqs = [raw_data[col].tolist() for col in [\"CDRH1\", \"CDRH2\", \"CDRH3\", \"CDRL1\", \"CDRL2\", \"CDRL3\"]]\n",
    "\n",
    "\n",
    "#oh_encodings = [pfaencoder.encode_variable_length(cdrset) for cdrset in cdrseqs]\n",
    "fcdata = ohencoder.encode(encoded_seqs)\n",
    "fcdata = fcdata.reshape((fcdata.shape[0], fcdata.shape[1] * fcdata.shape[2])).astype(np.float32)\n",
    "#slengths = [np.array([len(s) for s in cdrset]).astype(np.int32) for cdrset in cdrseqs]\n",
    "#fconv = FastConv1d(seq_width=21, device=\"gpu\", random_seed=123, conv_width=5, num_features=1024)\n",
    "\n",
    "#fcdata = [fconv.predict(x, s, chunk_size=1000) for (x,s) in zip(oh_encodings, slengths)]\n",
    "#fcdata = np.hstack(fcdata).astype(np.float32)"
   ]
  },
  {
   "cell_type": "code",
   "execution_count": 59,
   "id": "282d33d2-433c-495d-ac0b-4567b8de8bf2",
   "metadata": {},
   "outputs": [],
   "source": [
    "rng = np.random.default_rng(123)\n",
    "idx = rng.permutation(fcdata.shape[0])\n",
    "trainidx, validx, testidx = idx[:41787], idx[41787:(41787+4644)], idx[(41787+4644):]\n",
    "\n",
    "yvalues = raw_data[\"Pred_affinity\"].values.astype(np.float64)\n",
    "trainx, trainy = fcdata[trainidx,...], yvalues[trainidx]\n",
    "valx, valy = fcdata[validx,...], yvalues[validx]\n",
    "testx, testy = fcdata[testidx,...], yvalues[testidx]\n",
    "\n",
    "regdata = build_regression_dataset(trainx, trainy, chunk_size=1000)"
   ]
  },
  {
   "cell_type": "code",
   "execution_count": 60,
   "id": "3f4e7462-0056-4bb0-8974-10c24017cb87",
   "metadata": {},
   "outputs": [
    {
     "name": "stdout",
     "output_type": "stream",
     "text": [
      "Grid point 0 acquired.\n",
      "Grid point 1 acquired.\n",
      "Grid point 2 acquired.\n",
      "Grid point 3 acquired.\n",
      "Grid point 4 acquired.\n",
      "Grid point 5 acquired.\n",
      "Grid point 6 acquired.\n",
      "Grid point 7 acquired.\n",
      "Grid point 8 acquired.\n",
      "Grid point 9 acquired.\n",
      "New hparams: [-2.5040047]\n",
      "Additional acquisition 10.\n",
      "New hparams: [-2.0720023]\n",
      "Additional acquisition 11.\n",
      "New hparams: [-2.9752086]\n",
      "Additional acquisition 12.\n",
      "New hparams: [-2.4909924]\n",
      "Best score achieved: 47557.343\n",
      "Best hyperparams: [-1.4621671 -2.4909924]\n"
     ]
    },
    {
     "data": {
      "text/plain": [
       "(array([-1.4621671, -2.4909924]), 13, 47557.343)"
      ]
     },
     "execution_count": 60,
     "metadata": {},
     "output_type": "execute_result"
    }
   ],
   "source": [
    "xg = xGPReg(num_rffs=2048, kernel_choice=\"RBF\", device=\"gpu\", variance_rffs=12)\n",
    "xg.tune_hyperparams_crude(regdata)"
   ]
  },
  {
   "cell_type": "code",
   "execution_count": 61,
   "id": "f78d32e4-c2fe-4cfb-b0a9-6b7569111c38",
   "metadata": {},
   "outputs": [
    {
     "name": "stdout",
     "output_type": "stream",
     "text": [
      "starting fitting\n",
      "Chunk 0 complete.\n",
      "Chunk 10 complete.\n",
      "Chunk 20 complete.\n",
      "Chunk 30 complete.\n",
      "Chunk 40 complete.\n",
      "Using rank: 512\n",
      "Chunk 0 complete.\n",
      "Chunk 10 complete.\n",
      "Chunk 20 complete.\n",
      "Chunk 30 complete.\n",
      "Chunk 40 complete.\n",
      "Iteration 0\n",
      "Iteration 5\n",
      "Iteration 10\n",
      "Iteration 15\n",
      "Iteration 20\n",
      "Now performing variance calculations...\n",
      "Fitting complete.\n"
     ]
    }
   ],
   "source": [
    "xg.num_rffs = 8192\n",
    "xg.fit(regdata, mode=\"cg\")"
   ]
  },
  {
   "cell_type": "code",
   "execution_count": 62,
   "id": "9c2b5d3e-d319-4606-a6d7-82e07b8d5232",
   "metadata": {},
   "outputs": [],
   "source": [
    "preds = xg.predict(testx)"
   ]
  },
  {
   "cell_type": "code",
   "execution_count": 30,
   "id": "b9280e99-cc1d-4d1f-a614-b93ad47496aa",
   "metadata": {},
   "outputs": [
    {
     "name": "stdout",
     "output_type": "stream",
     "text": [
      "SignificanceResult(statistic=0.6715765658353137, pvalue=0.0)\n"
     ]
    }
   ],
   "source": [
    "from scipy.stats import spearmanr\n",
    "print(spearmanr(testy, preds))"
   ]
  },
  {
   "cell_type": "code",
   "execution_count": 31,
   "id": "ad18cc97-c203-48c1-beeb-183794d6d9a6",
   "metadata": {},
   "outputs": [],
   "source": [
    "valcat = testy.copy()\n",
    "\n",
    "valcat[valcat<=3]=0\n",
    "valcat[valcat>3]=1"
   ]
  },
  {
   "cell_type": "code",
   "execution_count": 32,
   "id": "2b48bd0a-abb3-449a-9647-d7237d6440b4",
   "metadata": {},
   "outputs": [
    {
     "data": {
      "text/plain": [
       "0.8762080023815001"
      ]
     },
     "execution_count": 32,
     "metadata": {},
     "output_type": "execute_result"
    }
   ],
   "source": [
    "from sklearn.metrics import average_precision_score, roc_auc_score\n",
    "roc_auc_score(valcat, preds)"
   ]
  },
  {
   "cell_type": "code",
   "execution_count": 33,
   "id": "8d45411f-86e9-4d75-b23a-a23972cdd6c5",
   "metadata": {},
   "outputs": [
    {
     "data": {
      "text/plain": [
       "0.873566666188171"
      ]
     },
     "execution_count": 33,
     "metadata": {},
     "output_type": "execute_result"
    }
   ],
   "source": [
    "average_precision_score(valcat, preds)"
   ]
  },
  {
   "cell_type": "code",
   "execution_count": null,
   "id": "37307dbe-daa8-4cb9-8a55-e5eb50788113",
   "metadata": {},
   "outputs": [],
   "source": []
  }
 ],
 "metadata": {
  "kernelspec": {
   "display_name": "Python 3 (ipykernel)",
   "language": "python",
   "name": "python3"
  },
  "language_info": {
   "codemirror_mode": {
    "name": "ipython",
    "version": 3
   },
   "file_extension": ".py",
   "mimetype": "text/x-python",
   "name": "python",
   "nbconvert_exporter": "python",
   "pygments_lexer": "ipython3",
   "version": "3.10.12"
  }
 },
 "nbformat": 4,
 "nbformat_minor": 5
}
